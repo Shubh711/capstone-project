{
 "cells": [
  {
   "cell_type": "markdown",
   "id": "d7c7fac9",
   "metadata": {},
   "source": [
    "# INTRODUCTION\n",
    "## This data set is all about olymic games conducted from year 2000 to 2012 with all the details of player like his name, age, country wehe he belongs to the year of participation what kind of medals a player won and the total number of medals including gold,silver,bronze."
   ]
  },
  {
   "cell_type": "code",
   "execution_count": 1,
   "id": "bbe710d3",
   "metadata": {},
   "outputs": [],
   "source": [
    "import numpy as np #importing the required libraries\n",
    "import pandas as pd\n",
    "import matplotlib.pyplot as plt\n",
    "import seaborn as sns"
   ]
  },
  {
   "cell_type": "markdown",
   "id": "6038d82c",
   "metadata": {},
   "source": [
    "## Q1. Please do the basic exploration of the data. "
   ]
  },
  {
   "cell_type": "code",
   "execution_count": 2,
   "id": "a52fef53",
   "metadata": {},
   "outputs": [],
   "source": [
    "raw_df = pd.read_csv('C:\\\\Users\\\\Shubham\\\\Desktop\\\\hw\\\\capstone\\\\olympix_data.csv',parse_dates=True)\n",
    "#reading the data with help of pandas"
   ]
  },
  {
   "cell_type": "code",
   "execution_count": 3,
   "id": "4e0c2626",
   "metadata": {},
   "outputs": [
    {
     "data": {
      "text/html": [
       "<div>\n",
       "<style scoped>\n",
       "    .dataframe tbody tr th:only-of-type {\n",
       "        vertical-align: middle;\n",
       "    }\n",
       "\n",
       "    .dataframe tbody tr th {\n",
       "        vertical-align: top;\n",
       "    }\n",
       "\n",
       "    .dataframe thead th {\n",
       "        text-align: right;\n",
       "    }\n",
       "</style>\n",
       "<table border=\"1\" class=\"dataframe\">\n",
       "  <thead>\n",
       "    <tr style=\"text-align: right;\">\n",
       "      <th></th>\n",
       "      <th>name</th>\n",
       "      <th>age</th>\n",
       "      <th>country</th>\n",
       "      <th>year</th>\n",
       "      <th>Date_Given</th>\n",
       "      <th>sports</th>\n",
       "      <th>gold_medal</th>\n",
       "      <th>silver_medal</th>\n",
       "      <th>brone_medal</th>\n",
       "      <th>total_medal</th>\n",
       "    </tr>\n",
       "  </thead>\n",
       "  <tbody>\n",
       "    <tr>\n",
       "      <th>0</th>\n",
       "      <td>Michael Phelps</td>\n",
       "      <td>23.0</td>\n",
       "      <td>United States</td>\n",
       "      <td>2008</td>\n",
       "      <td>8/24/2008</td>\n",
       "      <td>Swimming</td>\n",
       "      <td>8</td>\n",
       "      <td>0</td>\n",
       "      <td>0</td>\n",
       "      <td>8</td>\n",
       "    </tr>\n",
       "    <tr>\n",
       "      <th>1</th>\n",
       "      <td>Michael Phelps</td>\n",
       "      <td>19.0</td>\n",
       "      <td>United States</td>\n",
       "      <td>2004</td>\n",
       "      <td>8/29/2004</td>\n",
       "      <td>Swimming</td>\n",
       "      <td>6</td>\n",
       "      <td>0</td>\n",
       "      <td>2</td>\n",
       "      <td>8</td>\n",
       "    </tr>\n",
       "    <tr>\n",
       "      <th>2</th>\n",
       "      <td>Michael Phelps</td>\n",
       "      <td>27.0</td>\n",
       "      <td>United States</td>\n",
       "      <td>2012</td>\n",
       "      <td>08-12-2012</td>\n",
       "      <td>Swimming</td>\n",
       "      <td>4</td>\n",
       "      <td>2</td>\n",
       "      <td>0</td>\n",
       "      <td>6</td>\n",
       "    </tr>\n",
       "    <tr>\n",
       "      <th>3</th>\n",
       "      <td>Natalie Coughlin</td>\n",
       "      <td>25.0</td>\n",
       "      <td>United States</td>\n",
       "      <td>2008</td>\n",
       "      <td>8/24/2008</td>\n",
       "      <td>Swimming</td>\n",
       "      <td>1</td>\n",
       "      <td>2</td>\n",
       "      <td>3</td>\n",
       "      <td>6</td>\n",
       "    </tr>\n",
       "    <tr>\n",
       "      <th>4</th>\n",
       "      <td>Aleksey Nemov</td>\n",
       "      <td>24.0</td>\n",
       "      <td>Russia</td>\n",
       "      <td>2000</td>\n",
       "      <td>10-01-2000</td>\n",
       "      <td>Gymnastics</td>\n",
       "      <td>2</td>\n",
       "      <td>1</td>\n",
       "      <td>3</td>\n",
       "      <td>6</td>\n",
       "    </tr>\n",
       "  </tbody>\n",
       "</table>\n",
       "</div>"
      ],
      "text/plain": [
       "               name   age        country  year  Date_Given      sports  \\\n",
       "0    Michael Phelps  23.0  United States  2008   8/24/2008    Swimming   \n",
       "1    Michael Phelps  19.0  United States  2004   8/29/2004    Swimming   \n",
       "2    Michael Phelps  27.0  United States  2012  08-12-2012    Swimming   \n",
       "3  Natalie Coughlin  25.0  United States  2008   8/24/2008    Swimming   \n",
       "4     Aleksey Nemov  24.0         Russia  2000  10-01-2000  Gymnastics   \n",
       "\n",
       "   gold_medal  silver_medal  brone_medal  total_medal  \n",
       "0           8             0            0            8  \n",
       "1           6             0            2            8  \n",
       "2           4             2            0            6  \n",
       "3           1             2            3            6  \n",
       "4           2             1            3            6  "
      ]
     },
     "execution_count": 3,
     "metadata": {},
     "output_type": "execute_result"
    }
   ],
   "source": [
    "raw_df.head() #to see the head of data"
   ]
  },
  {
   "cell_type": "code",
   "execution_count": 4,
   "id": "c410d9e4",
   "metadata": {},
   "outputs": [
    {
     "name": "stdout",
     "output_type": "stream",
     "text": [
      "<class 'pandas.core.frame.DataFrame'>\n",
      "RangeIndex: 8618 entries, 0 to 8617\n",
      "Data columns (total 10 columns):\n",
      " #   Column        Non-Null Count  Dtype  \n",
      "---  ------        --------------  -----  \n",
      " 0   name          8613 non-null   object \n",
      " 1   age           8613 non-null   float64\n",
      " 2   country       8618 non-null   object \n",
      " 3   year          8618 non-null   int64  \n",
      " 4   Date_Given    8618 non-null   object \n",
      " 5   sports        8618 non-null   object \n",
      " 6   gold_medal    8618 non-null   int64  \n",
      " 7   silver_medal  8618 non-null   int64  \n",
      " 8   brone_medal   8618 non-null   int64  \n",
      " 9   total_medal   8618 non-null   int64  \n",
      "dtypes: float64(1), int64(5), object(4)\n",
      "memory usage: 673.4+ KB\n"
     ]
    }
   ],
   "source": [
    "raw_df.info() #showing data with its datatype is it correct or not"
   ]
  },
  {
   "cell_type": "markdown",
   "id": "6818e7ad",
   "metadata": {},
   "source": [
    "## observation:\n",
    "### date_given column is not in correct format we have to make it this data in date format"
   ]
  },
  {
   "cell_type": "code",
   "execution_count": 5,
   "id": "ab84e8ac",
   "metadata": {},
   "outputs": [
    {
     "data": {
      "text/plain": [
       "Index(['name', 'age', 'country', 'year', 'Date_Given', 'sports', 'gold_medal',\n",
       "       'silver_medal', 'brone_medal', 'total_medal'],\n",
       "      dtype='object')"
      ]
     },
     "execution_count": 5,
     "metadata": {},
     "output_type": "execute_result"
    }
   ],
   "source": [
    "raw_df.columns #to see the names of columns"
   ]
  },
  {
   "cell_type": "code",
   "execution_count": 6,
   "id": "6ab8485e",
   "metadata": {},
   "outputs": [],
   "source": [
    "raw_df['Date_Given'] = pd.to_datetime(raw_df['Date_Given']) #to convert it as a correct data type"
   ]
  },
  {
   "cell_type": "code",
   "execution_count": 7,
   "id": "9e00a64e",
   "metadata": {},
   "outputs": [
    {
     "name": "stdout",
     "output_type": "stream",
     "text": [
      "<class 'pandas.core.frame.DataFrame'>\n",
      "RangeIndex: 8618 entries, 0 to 8617\n",
      "Data columns (total 10 columns):\n",
      " #   Column        Non-Null Count  Dtype         \n",
      "---  ------        --------------  -----         \n",
      " 0   name          8613 non-null   object        \n",
      " 1   age           8613 non-null   float64       \n",
      " 2   country       8618 non-null   object        \n",
      " 3   year          8618 non-null   int64         \n",
      " 4   Date_Given    8618 non-null   datetime64[ns]\n",
      " 5   sports        8618 non-null   object        \n",
      " 6   gold_medal    8618 non-null   int64         \n",
      " 7   silver_medal  8618 non-null   int64         \n",
      " 8   brone_medal   8618 non-null   int64         \n",
      " 9   total_medal   8618 non-null   int64         \n",
      "dtypes: datetime64[ns](1), float64(1), int64(5), object(3)\n",
      "memory usage: 673.4+ KB\n"
     ]
    }
   ],
   "source": [
    "raw_df.info() #showing data with its datatype"
   ]
  },
  {
   "cell_type": "code",
   "execution_count": 8,
   "id": "f8fda356",
   "metadata": {},
   "outputs": [
    {
     "data": {
      "text/plain": [
       "(8618, 10)"
      ]
     },
     "execution_count": 8,
     "metadata": {},
     "output_type": "execute_result"
    }
   ],
   "source": [
    "raw_df.shape #to see rows and columns"
   ]
  },
  {
   "cell_type": "code",
   "execution_count": null,
   "id": "ba83fdc9",
   "metadata": {},
   "outputs": [],
   "source": []
  },
  {
   "cell_type": "code",
   "execution_count": null,
   "id": "55789117",
   "metadata": {},
   "outputs": [],
   "source": []
  },
  {
   "cell_type": "markdown",
   "id": "f6b7e34c",
   "metadata": {},
   "source": [
    "## Q3. Duplicates in the dataset introduces bias in the study. Please check and perform appropriate steps."
   ]
  },
  {
   "cell_type": "code",
   "execution_count": 9,
   "id": "60217a1f",
   "metadata": {},
   "outputs": [],
   "source": [
    "## NOTE Q2. IS DONE BELOW"
   ]
  },
  {
   "cell_type": "code",
   "execution_count": 10,
   "id": "e2735354",
   "metadata": {},
   "outputs": [
    {
     "data": {
      "text/plain": [
       "3"
      ]
     },
     "execution_count": 10,
     "metadata": {},
     "output_type": "execute_result"
    }
   ],
   "source": [
    "raw_df.duplicated().sum() #To see all duplicated values"
   ]
  },
  {
   "cell_type": "code",
   "execution_count": 11,
   "id": "db44c147",
   "metadata": {},
   "outputs": [],
   "source": [
    "raw_df = raw_df.drop_duplicates() #to drop duplicate values in order to clean our dataset"
   ]
  },
  {
   "cell_type": "code",
   "execution_count": 12,
   "id": "937261f5",
   "metadata": {},
   "outputs": [
    {
     "data": {
      "text/plain": [
       "(8615, 10)"
      ]
     },
     "execution_count": 12,
     "metadata": {},
     "output_type": "execute_result"
    }
   ],
   "source": [
    "raw_df.shape"
   ]
  },
  {
   "cell_type": "code",
   "execution_count": null,
   "id": "178ee03a",
   "metadata": {},
   "outputs": [],
   "source": []
  },
  {
   "cell_type": "code",
   "execution_count": null,
   "id": "c5e54fee",
   "metadata": {},
   "outputs": [],
   "source": []
  },
  {
   "cell_type": "markdown",
   "id": "745e72a0",
   "metadata": {},
   "source": [
    "## Q2. Deal with missing values appropriately. You can either remove them or fill them, but a proper justification is required."
   ]
  },
  {
   "cell_type": "code",
   "execution_count": 13,
   "id": "2924d355",
   "metadata": {},
   "outputs": [
    {
     "data": {
      "text/plain": [
       "name            2\n",
       "age             2\n",
       "country         0\n",
       "year            0\n",
       "Date_Given      0\n",
       "sports          0\n",
       "gold_medal      0\n",
       "silver_medal    0\n",
       "brone_medal     0\n",
       "total_medal     0\n",
       "dtype: int64"
      ]
     },
     "execution_count": 13,
     "metadata": {},
     "output_type": "execute_result"
    }
   ],
   "source": [
    "raw_df.isnull().sum() #to check null values in a dataset"
   ]
  },
  {
   "cell_type": "code",
   "execution_count": 14,
   "id": "d4c30061",
   "metadata": {},
   "outputs": [
    {
     "data": {
      "text/html": [
       "<div>\n",
       "<style scoped>\n",
       "    .dataframe tbody tr th:only-of-type {\n",
       "        vertical-align: middle;\n",
       "    }\n",
       "\n",
       "    .dataframe tbody tr th {\n",
       "        vertical-align: top;\n",
       "    }\n",
       "\n",
       "    .dataframe thead th {\n",
       "        text-align: right;\n",
       "    }\n",
       "</style>\n",
       "<table border=\"1\" class=\"dataframe\">\n",
       "  <thead>\n",
       "    <tr style=\"text-align: right;\">\n",
       "      <th></th>\n",
       "      <th>name</th>\n",
       "      <th>age</th>\n",
       "      <th>country</th>\n",
       "      <th>year</th>\n",
       "      <th>Date_Given</th>\n",
       "      <th>sports</th>\n",
       "      <th>gold_medal</th>\n",
       "      <th>silver_medal</th>\n",
       "      <th>brone_medal</th>\n",
       "      <th>total_medal</th>\n",
       "    </tr>\n",
       "  </thead>\n",
       "  <tbody>\n",
       "    <tr>\n",
       "      <th>1428</th>\n",
       "      <td>NaN</td>\n",
       "      <td>NaN</td>\n",
       "      <td>Brazil</td>\n",
       "      <td>2012</td>\n",
       "      <td>2012-08-12</td>\n",
       "      <td>Volleyball</td>\n",
       "      <td>0</td>\n",
       "      <td>1</td>\n",
       "      <td>0</td>\n",
       "      <td>1</td>\n",
       "    </tr>\n",
       "    <tr>\n",
       "      <th>4485</th>\n",
       "      <td>NaN</td>\n",
       "      <td>NaN</td>\n",
       "      <td>Argentina</td>\n",
       "      <td>2012</td>\n",
       "      <td>2012-08-12</td>\n",
       "      <td>Hockey</td>\n",
       "      <td>0</td>\n",
       "      <td>1</td>\n",
       "      <td>0</td>\n",
       "      <td>1</td>\n",
       "    </tr>\n",
       "  </tbody>\n",
       "</table>\n",
       "</div>"
      ],
      "text/plain": [
       "     name  age    country  year Date_Given      sports  gold_medal  \\\n",
       "1428  NaN  NaN     Brazil  2012 2012-08-12  Volleyball           0   \n",
       "4485  NaN  NaN  Argentina  2012 2012-08-12      Hockey           0   \n",
       "\n",
       "      silver_medal  brone_medal  total_medal  \n",
       "1428             1            0            1  \n",
       "4485             1            0            1  "
      ]
     },
     "execution_count": 14,
     "metadata": {},
     "output_type": "execute_result"
    }
   ],
   "source": [
    "raw_df[raw_df['name'].isnull()] # to find which rows has null values"
   ]
  },
  {
   "cell_type": "code",
   "execution_count": 15,
   "id": "817e5c9c",
   "metadata": {},
   "outputs": [
    {
     "data": {
      "text/plain": [
       "0.00023215322112594313"
      ]
     },
     "execution_count": 15,
     "metadata": {},
     "output_type": "execute_result"
    }
   ],
   "source": [
    "2/8615      #checking the percentage of data these null row has from total dataset\n",
    "            ## as only 2 rows of the data is missing which is less than 0.0002% we can drop those two rows"
   ]
  },
  {
   "cell_type": "markdown",
   "id": "47d0237f",
   "metadata": {},
   "source": [
    "#### Justification : 2 rows of the data is missing which is less than 0.0002% we can drop those two rows\n"
   ]
  },
  {
   "cell_type": "code",
   "execution_count": 16,
   "id": "cd7caa8d",
   "metadata": {},
   "outputs": [],
   "source": [
    "df = raw_df.dropna() #to drop the data"
   ]
  },
  {
   "cell_type": "code",
   "execution_count": 17,
   "id": "8c88d234",
   "metadata": {},
   "outputs": [
    {
     "data": {
      "text/plain": [
       "(8613, 10)"
      ]
     },
     "execution_count": 17,
     "metadata": {},
     "output_type": "execute_result"
    }
   ],
   "source": [
    "df.shape"
   ]
  },
  {
   "cell_type": "code",
   "execution_count": 18,
   "id": "3f82ebca",
   "metadata": {},
   "outputs": [
    {
     "data": {
      "text/plain": [
       "name            0\n",
       "age             0\n",
       "country         0\n",
       "year            0\n",
       "Date_Given      0\n",
       "sports          0\n",
       "gold_medal      0\n",
       "silver_medal    0\n",
       "brone_medal     0\n",
       "total_medal     0\n",
       "dtype: int64"
      ]
     },
     "execution_count": 18,
     "metadata": {},
     "output_type": "execute_result"
    }
   ],
   "source": [
    "df.isnull().sum() # finally cheking null values"
   ]
  },
  {
   "cell_type": "code",
   "execution_count": 19,
   "id": "533227c8",
   "metadata": {},
   "outputs": [
    {
     "name": "stdout",
     "output_type": "stream",
     "text": [
      "<class 'pandas.core.frame.DataFrame'>\n",
      "Int64Index: 8613 entries, 0 to 8617\n",
      "Data columns (total 10 columns):\n",
      " #   Column        Non-Null Count  Dtype         \n",
      "---  ------        --------------  -----         \n",
      " 0   name          8613 non-null   object        \n",
      " 1   age           8613 non-null   float64       \n",
      " 2   country       8613 non-null   object        \n",
      " 3   year          8613 non-null   int64         \n",
      " 4   Date_Given    8613 non-null   datetime64[ns]\n",
      " 5   sports        8613 non-null   object        \n",
      " 6   gold_medal    8613 non-null   int64         \n",
      " 7   silver_medal  8613 non-null   int64         \n",
      " 8   brone_medal   8613 non-null   int64         \n",
      " 9   total_medal   8613 non-null   int64         \n",
      "dtypes: datetime64[ns](1), float64(1), int64(5), object(3)\n",
      "memory usage: 740.2+ KB\n"
     ]
    }
   ],
   "source": [
    "df.info() #completely clean data with correct datatype"
   ]
  },
  {
   "cell_type": "code",
   "execution_count": 20,
   "id": "905bb5e9",
   "metadata": {},
   "outputs": [
    {
     "data": {
      "text/html": [
       "<div>\n",
       "<style scoped>\n",
       "    .dataframe tbody tr th:only-of-type {\n",
       "        vertical-align: middle;\n",
       "    }\n",
       "\n",
       "    .dataframe tbody tr th {\n",
       "        vertical-align: top;\n",
       "    }\n",
       "\n",
       "    .dataframe thead th {\n",
       "        text-align: right;\n",
       "    }\n",
       "</style>\n",
       "<table border=\"1\" class=\"dataframe\">\n",
       "  <thead>\n",
       "    <tr style=\"text-align: right;\">\n",
       "      <th></th>\n",
       "      <th>name</th>\n",
       "      <th>age</th>\n",
       "      <th>country</th>\n",
       "      <th>year</th>\n",
       "      <th>Date_Given</th>\n",
       "      <th>sports</th>\n",
       "      <th>gold_medal</th>\n",
       "      <th>silver_medal</th>\n",
       "      <th>brone_medal</th>\n",
       "      <th>total_medal</th>\n",
       "    </tr>\n",
       "  </thead>\n",
       "  <tbody>\n",
       "    <tr>\n",
       "      <th>4874</th>\n",
       "      <td>William Accambray</td>\n",
       "      <td>24.0</td>\n",
       "      <td>France</td>\n",
       "      <td>2012</td>\n",
       "      <td>2012-08-12</td>\n",
       "      <td>Handball</td>\n",
       "      <td>1</td>\n",
       "      <td>0</td>\n",
       "      <td>0</td>\n",
       "      <td>1</td>\n",
       "    </tr>\n",
       "    <tr>\n",
       "      <th>3786</th>\n",
       "      <td>Vera Shimanskaya</td>\n",
       "      <td>19.0</td>\n",
       "      <td>Russia</td>\n",
       "      <td>2000</td>\n",
       "      <td>2000-10-01</td>\n",
       "      <td>Rhythmic Gymnastics</td>\n",
       "      <td>1</td>\n",
       "      <td>0</td>\n",
       "      <td>0</td>\n",
       "      <td>1</td>\n",
       "    </tr>\n",
       "    <tr>\n",
       "      <th>1181</th>\n",
       "      <td>Aleksa Šaponjic</td>\n",
       "      <td>20.0</td>\n",
       "      <td>Serbia</td>\n",
       "      <td>2012</td>\n",
       "      <td>2012-08-12</td>\n",
       "      <td>Waterpolo</td>\n",
       "      <td>0</td>\n",
       "      <td>0</td>\n",
       "      <td>1</td>\n",
       "      <td>1</td>\n",
       "    </tr>\n",
       "    <tr>\n",
       "      <th>4420</th>\n",
       "      <td>Igor Kravchuk</td>\n",
       "      <td>35.0</td>\n",
       "      <td>Russia</td>\n",
       "      <td>2002</td>\n",
       "      <td>2002-02-24</td>\n",
       "      <td>Ice Hockey</td>\n",
       "      <td>0</td>\n",
       "      <td>0</td>\n",
       "      <td>1</td>\n",
       "      <td>1</td>\n",
       "    </tr>\n",
       "    <tr>\n",
       "      <th>165</th>\n",
       "      <td>Zhang Yining</td>\n",
       "      <td>26.0</td>\n",
       "      <td>China</td>\n",
       "      <td>2008</td>\n",
       "      <td>2008-08-24</td>\n",
       "      <td>Table Tennis</td>\n",
       "      <td>2</td>\n",
       "      <td>0</td>\n",
       "      <td>0</td>\n",
       "      <td>2</td>\n",
       "    </tr>\n",
       "    <tr>\n",
       "      <th>331</th>\n",
       "      <td>Roar Ljøkelsøy</td>\n",
       "      <td>29.0</td>\n",
       "      <td>Norway</td>\n",
       "      <td>2006</td>\n",
       "      <td>2006-02-26</td>\n",
       "      <td>Ski Jumping</td>\n",
       "      <td>0</td>\n",
       "      <td>0</td>\n",
       "      <td>2</td>\n",
       "      <td>2</td>\n",
       "    </tr>\n",
       "    <tr>\n",
       "      <th>659</th>\n",
       "      <td>Deon Hemmings</td>\n",
       "      <td>31.0</td>\n",
       "      <td>Jamaica</td>\n",
       "      <td>2000</td>\n",
       "      <td>2000-10-01</td>\n",
       "      <td>Athletics</td>\n",
       "      <td>0</td>\n",
       "      <td>2</td>\n",
       "      <td>0</td>\n",
       "      <td>2</td>\n",
       "    </tr>\n",
       "    <tr>\n",
       "      <th>4710</th>\n",
       "      <td>Nathan Eglington</td>\n",
       "      <td>23.0</td>\n",
       "      <td>Australia</td>\n",
       "      <td>2004</td>\n",
       "      <td>2004-08-29</td>\n",
       "      <td>Hockey</td>\n",
       "      <td>1</td>\n",
       "      <td>0</td>\n",
       "      <td>0</td>\n",
       "      <td>1</td>\n",
       "    </tr>\n",
       "    <tr>\n",
       "      <th>2852</th>\n",
       "      <td>Andrea Benelli</td>\n",
       "      <td>44.0</td>\n",
       "      <td>Italy</td>\n",
       "      <td>2004</td>\n",
       "      <td>2004-08-29</td>\n",
       "      <td>Shooting</td>\n",
       "      <td>1</td>\n",
       "      <td>0</td>\n",
       "      <td>0</td>\n",
       "      <td>1</td>\n",
       "    </tr>\n",
       "    <tr>\n",
       "      <th>2529</th>\n",
       "      <td>Cindy Klassen</td>\n",
       "      <td>22.0</td>\n",
       "      <td>Canada</td>\n",
       "      <td>2002</td>\n",
       "      <td>2002-02-24</td>\n",
       "      <td>Speed Skating</td>\n",
       "      <td>0</td>\n",
       "      <td>0</td>\n",
       "      <td>1</td>\n",
       "      <td>1</td>\n",
       "    </tr>\n",
       "  </tbody>\n",
       "</table>\n",
       "</div>"
      ],
      "text/plain": [
       "                   name   age    country  year Date_Given  \\\n",
       "4874  William Accambray  24.0     France  2012 2012-08-12   \n",
       "3786   Vera Shimanskaya  19.0     Russia  2000 2000-10-01   \n",
       "1181    Aleksa Šaponjic  20.0     Serbia  2012 2012-08-12   \n",
       "4420      Igor Kravchuk  35.0     Russia  2002 2002-02-24   \n",
       "165        Zhang Yining  26.0      China  2008 2008-08-24   \n",
       "331      Roar Ljøkelsøy  29.0     Norway  2006 2006-02-26   \n",
       "659       Deon Hemmings  31.0    Jamaica  2000 2000-10-01   \n",
       "4710   Nathan Eglington  23.0  Australia  2004 2004-08-29   \n",
       "2852     Andrea Benelli  44.0      Italy  2004 2004-08-29   \n",
       "2529      Cindy Klassen  22.0     Canada  2002 2002-02-24   \n",
       "\n",
       "                   sports  gold_medal  silver_medal  brone_medal  total_medal  \n",
       "4874             Handball           1             0            0            1  \n",
       "3786  Rhythmic Gymnastics           1             0            0            1  \n",
       "1181            Waterpolo           0             0            1            1  \n",
       "4420           Ice Hockey           0             0            1            1  \n",
       "165          Table Tennis           2             0            0            2  \n",
       "331           Ski Jumping           0             0            2            2  \n",
       "659             Athletics           0             2            0            2  \n",
       "4710               Hockey           1             0            0            1  \n",
       "2852             Shooting           1             0            0            1  \n",
       "2529        Speed Skating           0             0            1            1  "
      ]
     },
     "execution_count": 20,
     "metadata": {},
     "output_type": "execute_result"
    }
   ],
   "source": [
    "df.sample(10) #sample of few random data"
   ]
  },
  {
   "cell_type": "code",
   "execution_count": null,
   "id": "e27b1f25",
   "metadata": {},
   "outputs": [],
   "source": []
  },
  {
   "cell_type": "code",
   "execution_count": null,
   "id": "d777cb64",
   "metadata": {},
   "outputs": [],
   "source": []
  },
  {
   "cell_type": "markdown",
   "id": "eb15697d",
   "metadata": {},
   "source": [
    "## Q4. Please remove special characters from the name column."
   ]
  },
  {
   "cell_type": "code",
   "execution_count": 21,
   "id": "1e2bd050",
   "metadata": {},
   "outputs": [],
   "source": [
    "# removing special char from name\n",
    "import re #importing regex"
   ]
  },
  {
   "cell_type": "code",
   "execution_count": 22,
   "id": "4bcd35dc",
   "metadata": {
    "scrolled": true
   },
   "outputs": [
    {
     "name": "stderr",
     "output_type": "stream",
     "text": [
      "C:\\Users\\Shubham\\AppData\\Local\\Temp/ipykernel_9664/376374281.py:1: FutureWarning: The default value of regex will change from True to False in a future version.\n",
      "  df['name'] = df['name'].str.replace(r'[^a-z A-Z]', '') #filtering out all special characte\n",
      "C:\\Users\\Shubham\\AppData\\Local\\Temp/ipykernel_9664/376374281.py:1: SettingWithCopyWarning: \n",
      "A value is trying to be set on a copy of a slice from a DataFrame.\n",
      "Try using .loc[row_indexer,col_indexer] = value instead\n",
      "\n",
      "See the caveats in the documentation: https://pandas.pydata.org/pandas-docs/stable/user_guide/indexing.html#returning-a-view-versus-a-copy\n",
      "  df['name'] = df['name'].str.replace(r'[^a-z A-Z]', '') #filtering out all special characte\n"
     ]
    }
   ],
   "source": [
    "df['name'] = df['name'].str.replace(r'[^a-z A-Z]', '') #filtering out all special characte"
   ]
  },
  {
   "cell_type": "code",
   "execution_count": 23,
   "id": "77dcb198",
   "metadata": {},
   "outputs": [
    {
     "data": {
      "text/plain": [
       "0            Michael Phelps\n",
       "1            Michael Phelps\n",
       "2            Michael Phelps\n",
       "3          Natalie Coughlin\n",
       "4             Aleksey Nemov\n",
       "               ...         \n",
       "8613       Olena Sadovnycha\n",
       "8614       Kateryna Serdiuk\n",
       "8615       Wietse van Alten\n",
       "8616    Sandra WagnerSachse\n",
       "8617              Rod White\n",
       "Name: name, Length: 8613, dtype: object"
      ]
     },
     "execution_count": 23,
     "metadata": {},
     "output_type": "execute_result"
    }
   ],
   "source": [
    "df['name'] #showing data after filteration"
   ]
  },
  {
   "cell_type": "code",
   "execution_count": null,
   "id": "7b26ac0e",
   "metadata": {},
   "outputs": [],
   "source": []
  },
  {
   "cell_type": "markdown",
   "id": "88ab78fa",
   "metadata": {},
   "source": [
    "#### NOTE: After filtration and cleaning of the data i have saved the cleaned data into csv file to use this file in spark and sql "
   ]
  },
  {
   "cell_type": "code",
   "execution_count": 24,
   "id": "e12da8c0",
   "metadata": {},
   "outputs": [],
   "source": [
    "#df.to_csv('clean_olympic_data.csv', index=False)"
   ]
  },
  {
   "cell_type": "code",
   "execution_count": null,
   "id": "5a549737",
   "metadata": {},
   "outputs": [],
   "source": []
  },
  {
   "cell_type": "code",
   "execution_count": null,
   "id": "6dd938ec",
   "metadata": {},
   "outputs": [],
   "source": []
  },
  {
   "cell_type": "markdown",
   "id": "4798b71b",
   "metadata": {},
   "source": [
    "## Q5. Perform data visualization techniques to appropriate columns and explain them."
   ]
  },
  {
   "cell_type": "code",
   "execution_count": 25,
   "id": "75a51f3f",
   "metadata": {},
   "outputs": [
    {
     "data": {
      "text/plain": [
       "Index(['name', 'age', 'country', 'year', 'Date_Given', 'sports', 'gold_medal',\n",
       "       'silver_medal', 'brone_medal', 'total_medal'],\n",
       "      dtype='object')"
      ]
     },
     "execution_count": 25,
     "metadata": {},
     "output_type": "execute_result"
    }
   ],
   "source": [
    "df.columns"
   ]
  },
  {
   "cell_type": "code",
   "execution_count": 26,
   "id": "f8d2ff0c",
   "metadata": {},
   "outputs": [
    {
     "name": "stdout",
     "output_type": "stream",
     "text": [
      "<class 'pandas.core.frame.DataFrame'>\n",
      "Int64Index: 8613 entries, 0 to 8617\n",
      "Data columns (total 10 columns):\n",
      " #   Column        Non-Null Count  Dtype         \n",
      "---  ------        --------------  -----         \n",
      " 0   name          8613 non-null   object        \n",
      " 1   age           8613 non-null   float64       \n",
      " 2   country       8613 non-null   object        \n",
      " 3   year          8613 non-null   int64         \n",
      " 4   Date_Given    8613 non-null   datetime64[ns]\n",
      " 5   sports        8613 non-null   object        \n",
      " 6   gold_medal    8613 non-null   int64         \n",
      " 7   silver_medal  8613 non-null   int64         \n",
      " 8   brone_medal   8613 non-null   int64         \n",
      " 9   total_medal   8613 non-null   int64         \n",
      "dtypes: datetime64[ns](1), float64(1), int64(5), object(3)\n",
      "memory usage: 740.2+ KB\n"
     ]
    }
   ],
   "source": [
    "df.info()"
   ]
  },
  {
   "cell_type": "markdown",
   "id": "54969838",
   "metadata": {},
   "source": [
    "#### first we can derive some visual conclustion on some relation data visualization with appropriate column\n",
    "#### Here we are showing relation with NUMBER OF TOTAL MEDALS AND TYPE OF MEDALS COUNTRY WISE OF TOP 10 COUNTRIES"
   ]
  },
  {
   "cell_type": "code",
   "execution_count": null,
   "id": "2c4c82c7",
   "metadata": {},
   "outputs": [],
   "source": []
  },
  {
   "cell_type": "code",
   "execution_count": 27,
   "id": "ed4956ad",
   "metadata": {},
   "outputs": [
    {
     "data": {
      "text/html": [
       "<div>\n",
       "<style scoped>\n",
       "    .dataframe tbody tr th:only-of-type {\n",
       "        vertical-align: middle;\n",
       "    }\n",
       "\n",
       "    .dataframe tbody tr th {\n",
       "        vertical-align: top;\n",
       "    }\n",
       "\n",
       "    .dataframe thead th {\n",
       "        text-align: right;\n",
       "    }\n",
       "</style>\n",
       "<table border=\"1\" class=\"dataframe\">\n",
       "  <thead>\n",
       "    <tr style=\"text-align: right;\">\n",
       "      <th></th>\n",
       "      <th>gold_medal</th>\n",
       "      <th>silver_medal</th>\n",
       "      <th>brone_medal</th>\n",
       "      <th>total_medal</th>\n",
       "    </tr>\n",
       "    <tr>\n",
       "      <th>country</th>\n",
       "      <th></th>\n",
       "      <th></th>\n",
       "      <th></th>\n",
       "      <th></th>\n",
       "    </tr>\n",
       "  </thead>\n",
       "  <tbody>\n",
       "    <tr>\n",
       "      <th>United States</th>\n",
       "      <td>552</td>\n",
       "      <td>440</td>\n",
       "      <td>320</td>\n",
       "      <td>1312</td>\n",
       "    </tr>\n",
       "    <tr>\n",
       "      <th>Russia</th>\n",
       "      <td>234</td>\n",
       "      <td>221</td>\n",
       "      <td>313</td>\n",
       "      <td>768</td>\n",
       "    </tr>\n",
       "    <tr>\n",
       "      <th>Germany</th>\n",
       "      <td>223</td>\n",
       "      <td>183</td>\n",
       "      <td>223</td>\n",
       "      <td>629</td>\n",
       "    </tr>\n",
       "    <tr>\n",
       "      <th>Australia</th>\n",
       "      <td>163</td>\n",
       "      <td>226</td>\n",
       "      <td>220</td>\n",
       "      <td>609</td>\n",
       "    </tr>\n",
       "    <tr>\n",
       "      <th>China</th>\n",
       "      <td>234</td>\n",
       "      <td>156</td>\n",
       "      <td>140</td>\n",
       "      <td>530</td>\n",
       "    </tr>\n",
       "    <tr>\n",
       "      <th>...</th>\n",
       "      <td>...</td>\n",
       "      <td>...</td>\n",
       "      <td>...</td>\n",
       "      <td>...</td>\n",
       "    </tr>\n",
       "    <tr>\n",
       "      <th>Guatemala</th>\n",
       "      <td>0</td>\n",
       "      <td>1</td>\n",
       "      <td>0</td>\n",
       "      <td>1</td>\n",
       "    </tr>\n",
       "    <tr>\n",
       "      <th>Syria</th>\n",
       "      <td>0</td>\n",
       "      <td>0</td>\n",
       "      <td>1</td>\n",
       "      <td>1</td>\n",
       "    </tr>\n",
       "    <tr>\n",
       "      <th>Macedonia</th>\n",
       "      <td>0</td>\n",
       "      <td>0</td>\n",
       "      <td>1</td>\n",
       "      <td>1</td>\n",
       "    </tr>\n",
       "    <tr>\n",
       "      <th>Mauritius</th>\n",
       "      <td>0</td>\n",
       "      <td>0</td>\n",
       "      <td>1</td>\n",
       "      <td>1</td>\n",
       "    </tr>\n",
       "    <tr>\n",
       "      <th>Gabon</th>\n",
       "      <td>0</td>\n",
       "      <td>1</td>\n",
       "      <td>0</td>\n",
       "      <td>1</td>\n",
       "    </tr>\n",
       "  </tbody>\n",
       "</table>\n",
       "<p>110 rows × 4 columns</p>\n",
       "</div>"
      ],
      "text/plain": [
       "               gold_medal  silver_medal  brone_medal  total_medal\n",
       "country                                                          \n",
       "United States         552           440          320         1312\n",
       "Russia                234           221          313          768\n",
       "Germany               223           183          223          629\n",
       "Australia             163           226          220          609\n",
       "China                 234           156          140          530\n",
       "...                   ...           ...          ...          ...\n",
       "Guatemala               0             1            0            1\n",
       "Syria                   0             0            1            1\n",
       "Macedonia               0             0            1            1\n",
       "Mauritius               0             0            1            1\n",
       "Gabon                   0             1            0            1\n",
       "\n",
       "[110 rows x 4 columns]"
      ]
     },
     "execution_count": 27,
     "metadata": {},
     "output_type": "execute_result"
    }
   ],
   "source": [
    "country_medal = df[['country','gold_medal','silver_medal','brone_medal','total_medal']]\n",
    "#segregating the required columns\n",
    "country_medal = country_medal.groupby(['country'], as_index=True)[['gold_medal','silver_medal','brone_medal','total_medal']].sum().sort_values('total_medal',ascending=False)\n",
    "# grouping by country to have countrywise output\n",
    "country_medal"
   ]
  },
  {
   "cell_type": "code",
   "execution_count": 28,
   "id": "921352da",
   "metadata": {},
   "outputs": [
    {
     "data": {
      "image/png": "[encoded data removed]",
      "text/plain": [
       "<Figure size 1440x864 with 1 Axes>"
      ]
     },
     "metadata": {
      "needs_background": "light"
     },
     "output_type": "display_data"
    }
   ],
   "source": [
    "#showing top 10 the data country wise and types of medals with total medal\n",
    "\n",
    "color_lst = ['#FFD700','#C0C0C0','#CD7F32','#D2042D'] #using customised colors\n",
    "graph1 = country_medal[:10].plot(kind='bar' ,figsize=(20,12), color=color_lst,fontsize=18) #top 10 selection\n",
    "graph1.set_xlabel('Country', fontsize=25) #increasing font size\n",
    "graph1.set_ylabel('Number of medals', fontsize=25) #increasing font size\n",
    "graph1.set_title('Medal to Country',fontsize=25) #increasing font size\n",
    "graph1.legend(fontsize=15) #increasing font size\n",
    "plt.tight_layout()"
   ]
  },
  {
   "cell_type": "code",
   "execution_count": null,
   "id": "2b9d14b2",
   "metadata": {},
   "outputs": [],
   "source": []
  },
  {
   "cell_type": "code",
   "execution_count": 29,
   "id": "be401ee9",
   "metadata": {},
   "outputs": [
    {
     "data": {
      "text/html": [
       "<div>\n",
       "<style scoped>\n",
       "    .dataframe tbody tr th:only-of-type {\n",
       "        vertical-align: middle;\n",
       "    }\n",
       "\n",
       "    .dataframe tbody tr th {\n",
       "        vertical-align: top;\n",
       "    }\n",
       "\n",
       "    .dataframe thead th {\n",
       "        text-align: right;\n",
       "    }\n",
       "</style>\n",
       "<table border=\"1\" class=\"dataframe\">\n",
       "  <thead>\n",
       "    <tr style=\"text-align: right;\">\n",
       "      <th></th>\n",
       "      <th>gold_medal</th>\n",
       "      <th>silver_medal</th>\n",
       "      <th>brone_medal</th>\n",
       "      <th>total_medal</th>\n",
       "    </tr>\n",
       "    <tr>\n",
       "      <th>sports</th>\n",
       "      <th></th>\n",
       "      <th></th>\n",
       "      <th></th>\n",
       "      <th></th>\n",
       "    </tr>\n",
       "  </thead>\n",
       "  <tbody>\n",
       "    <tr>\n",
       "      <th>Swimming</th>\n",
       "      <td>270</td>\n",
       "      <td>257</td>\n",
       "      <td>238</td>\n",
       "      <td>765</td>\n",
       "    </tr>\n",
       "    <tr>\n",
       "      <th>Athletics</th>\n",
       "      <td>253</td>\n",
       "      <td>257</td>\n",
       "      <td>243</td>\n",
       "      <td>753</td>\n",
       "    </tr>\n",
       "    <tr>\n",
       "      <th>Rowing</th>\n",
       "      <td>192</td>\n",
       "      <td>192</td>\n",
       "      <td>192</td>\n",
       "      <td>576</td>\n",
       "    </tr>\n",
       "    <tr>\n",
       "      <th>Football</th>\n",
       "      <td>136</td>\n",
       "      <td>134</td>\n",
       "      <td>137</td>\n",
       "      <td>407</td>\n",
       "    </tr>\n",
       "    <tr>\n",
       "      <th>Hockey</th>\n",
       "      <td>129</td>\n",
       "      <td>128</td>\n",
       "      <td>129</td>\n",
       "      <td>386</td>\n",
       "    </tr>\n",
       "    <tr>\n",
       "      <th>Ice Hockey</th>\n",
       "      <td>129</td>\n",
       "      <td>129</td>\n",
       "      <td>126</td>\n",
       "      <td>384</td>\n",
       "    </tr>\n",
       "    <tr>\n",
       "      <th>Handball</th>\n",
       "      <td>118</td>\n",
       "      <td>116</td>\n",
       "      <td>117</td>\n",
       "      <td>351</td>\n",
       "    </tr>\n",
       "    <tr>\n",
       "      <th>Canoeing</th>\n",
       "      <td>111</td>\n",
       "      <td>111</td>\n",
       "      <td>111</td>\n",
       "      <td>333</td>\n",
       "    </tr>\n",
       "    <tr>\n",
       "      <th>Waterpolo</th>\n",
       "      <td>102</td>\n",
       "      <td>101</td>\n",
       "      <td>103</td>\n",
       "      <td>306</td>\n",
       "    </tr>\n",
       "    <tr>\n",
       "      <th>Cycling</th>\n",
       "      <td>101</td>\n",
       "      <td>103</td>\n",
       "      <td>102</td>\n",
       "      <td>306</td>\n",
       "    </tr>\n",
       "  </tbody>\n",
       "</table>\n",
       "</div>"
      ],
      "text/plain": [
       "            gold_medal  silver_medal  brone_medal  total_medal\n",
       "sports                                                        \n",
       "Swimming           270           257          238          765\n",
       "Athletics          253           257          243          753\n",
       "Rowing             192           192          192          576\n",
       "Football           136           134          137          407\n",
       "Hockey             129           128          129          386\n",
       "Ice Hockey         129           129          126          384\n",
       "Handball           118           116          117          351\n",
       "Canoeing           111           111          111          333\n",
       "Waterpolo          102           101          103          306\n",
       "Cycling            101           103          102          306"
      ]
     },
     "execution_count": 29,
     "metadata": {},
     "output_type": "execute_result"
    }
   ],
   "source": [
    "## Here we are showing relation with NUMBER OF TOTAL MEDALS AND TYPE OF MEDALS SPORT WISE OF TOP 10 COUNTRIES\n",
    "\n",
    "sports_medal = df[['sports','gold_medal','silver_medal','brone_medal','total_medal']]\n",
    "#segregating the required columns\n",
    "sports_medal = sports_medal.groupby(['sports'], as_index=True)[['gold_medal','silver_medal','brone_medal','total_medal']].sum().sort_values('total_medal',ascending=False)\n",
    "# grouping by sports and then sorting the data in decending order\n",
    "sports_medal[:10]\n",
    "#top 10 results"
   ]
  },
  {
   "cell_type": "code",
   "execution_count": 30,
   "id": "a0da0563",
   "metadata": {},
   "outputs": [
    {
     "data": {
      "image/png": "[encoded data removed]",
      "text/plain": [
       "<Figure size 1440x864 with 1 Axes>"
      ]
     },
     "metadata": {
      "needs_background": "light"
     },
     "output_type": "display_data"
    }
   ],
   "source": [
    "color_lst = ['#FFD700','#C0C0C0','#CD7F32','#D2042D'] #using customised colors\n",
    "graph1 = sports_medal[:10].plot(kind='bar' ,figsize=(20,12), color=color_lst,fontsize=18) #increasing font size\n",
    "graph1.set_xlabel('Sports', fontsize=25) #increasing font size\n",
    "graph1.set_ylabel('Number of medals', fontsize=25) #increasing font size\n",
    "graph1.set_title('Medal to sports',fontsize=25) #increasing font size\n",
    "graph1.legend(fontsize=15) #increasing font size\n",
    "plt.tight_layout()"
   ]
  },
  {
   "cell_type": "code",
   "execution_count": null,
   "id": "b020769a",
   "metadata": {},
   "outputs": [],
   "source": []
  },
  {
   "cell_type": "code",
   "execution_count": 31,
   "id": "58962fd2",
   "metadata": {},
   "outputs": [
    {
     "data": {
      "text/html": [
       "<div>\n",
       "<style scoped>\n",
       "    .dataframe tbody tr th:only-of-type {\n",
       "        vertical-align: middle;\n",
       "    }\n",
       "\n",
       "    .dataframe tbody tr th {\n",
       "        vertical-align: top;\n",
       "    }\n",
       "\n",
       "    .dataframe thead th {\n",
       "        text-align: right;\n",
       "    }\n",
       "</style>\n",
       "<table border=\"1\" class=\"dataframe\">\n",
       "  <thead>\n",
       "    <tr style=\"text-align: right;\">\n",
       "      <th></th>\n",
       "      <th>gold_medal</th>\n",
       "      <th>silver_medal</th>\n",
       "      <th>brone_medal</th>\n",
       "      <th>total_medal</th>\n",
       "    </tr>\n",
       "    <tr>\n",
       "      <th>name</th>\n",
       "      <th></th>\n",
       "      <th></th>\n",
       "      <th></th>\n",
       "      <th></th>\n",
       "    </tr>\n",
       "  </thead>\n",
       "  <tbody>\n",
       "    <tr>\n",
       "      <th>Michael Phelps</th>\n",
       "      <td>18</td>\n",
       "      <td>2</td>\n",
       "      <td>2</td>\n",
       "      <td>22</td>\n",
       "    </tr>\n",
       "    <tr>\n",
       "      <th>Natalie Coughlin</th>\n",
       "      <td>3</td>\n",
       "      <td>4</td>\n",
       "      <td>5</td>\n",
       "      <td>12</td>\n",
       "    </tr>\n",
       "    <tr>\n",
       "      <th>Ryan Lochte</th>\n",
       "      <td>5</td>\n",
       "      <td>3</td>\n",
       "      <td>3</td>\n",
       "      <td>11</td>\n",
       "    </tr>\n",
       "    <tr>\n",
       "      <th>Ole Einar Bjrndalen</th>\n",
       "      <td>5</td>\n",
       "      <td>3</td>\n",
       "      <td>1</td>\n",
       "      <td>9</td>\n",
       "    </tr>\n",
       "    <tr>\n",
       "      <th>Leisel Jones</th>\n",
       "      <td>3</td>\n",
       "      <td>5</td>\n",
       "      <td>1</td>\n",
       "      <td>9</td>\n",
       "    </tr>\n",
       "    <tr>\n",
       "      <th>Ian Thorpe</th>\n",
       "      <td>5</td>\n",
       "      <td>3</td>\n",
       "      <td>1</td>\n",
       "      <td>9</td>\n",
       "    </tr>\n",
       "    <tr>\n",
       "      <th>Inge de Bruijn</th>\n",
       "      <td>4</td>\n",
       "      <td>2</td>\n",
       "      <td>2</td>\n",
       "      <td>8</td>\n",
       "    </tr>\n",
       "    <tr>\n",
       "      <th>Katalin Kovcs</th>\n",
       "      <td>3</td>\n",
       "      <td>5</td>\n",
       "      <td>0</td>\n",
       "      <td>8</td>\n",
       "    </tr>\n",
       "    <tr>\n",
       "      <th>Apolo Anton Ohno</th>\n",
       "      <td>2</td>\n",
       "      <td>2</td>\n",
       "      <td>4</td>\n",
       "      <td>8</td>\n",
       "    </tr>\n",
       "    <tr>\n",
       "      <th>Jason Lezak</th>\n",
       "      <td>4</td>\n",
       "      <td>2</td>\n",
       "      <td>2</td>\n",
       "      <td>8</td>\n",
       "    </tr>\n",
       "  </tbody>\n",
       "</table>\n",
       "</div>"
      ],
      "text/plain": [
       "                     gold_medal  silver_medal  brone_medal  total_medal\n",
       "name                                                                   \n",
       "Michael Phelps               18             2            2           22\n",
       "Natalie Coughlin              3             4            5           12\n",
       "Ryan Lochte                   5             3            3           11\n",
       "Ole Einar Bjrndalen           5             3            1            9\n",
       "Leisel Jones                  3             5            1            9\n",
       "Ian Thorpe                    5             3            1            9\n",
       "Inge de Bruijn                4             2            2            8\n",
       "Katalin Kovcs                 3             5            0            8\n",
       "Apolo Anton Ohno              2             2            4            8\n",
       "Jason Lezak                   4             2            2            8"
      ]
     },
     "execution_count": 31,
     "metadata": {},
     "output_type": "execute_result"
    }
   ],
   "source": [
    "## Here we are showing relation with NUMBER OF TOTAL MEDALS AND TYPE OF MEDALS ATHELETE WISE OF TOP 10 COUNTRIES\n",
    "\n",
    "athelete_medal = df[['name','gold_medal','silver_medal','brone_medal','total_medal']] \n",
    "#segregating the required columns\n",
    "athelete_medal = athelete_medal.groupby(['name'], as_index=True)[['gold_medal','silver_medal','brone_medal','total_medal']].sum().sort_values('total_medal',ascending=False)\n",
    "# grouping by sports and then sorting the data in decending order\n",
    "athelete_medal[:10] #showing top 10 result"
   ]
  },
  {
   "cell_type": "code",
   "execution_count": 32,
   "id": "9ddc2a81",
   "metadata": {},
   "outputs": [
    {
     "data": {
      "image/png": "[encoded data removed]",
      "text/plain": [
       "<Figure size 1440x864 with 1 Axes>"
      ]
     },
     "metadata": {
      "needs_background": "light"
     },
     "output_type": "display_data"
    }
   ],
   "source": [
    "color_lst = ['#FFD700','#C0C0C0','#CD7F32','#D2042D']  #using customised colors\n",
    "graph1 = athelete_medal[:10].plot(kind='bar' ,figsize=(20,12), color=color_lst, fontsize=18) #top 10 results\n",
    "graph1.set_xlabel('', fontsize=25) #increasing font size\n",
    "graph1.set_ylabel('Number of medals', fontsize=25) #increasing font size\n",
    "graph1.set_title('Medal to athelete',fontsize=25) #increasing font size\n",
    "graph1.legend(fontsize=15)  #increasing font size\n",
    "plt.tight_layout()"
   ]
  },
  {
   "cell_type": "code",
   "execution_count": null,
   "id": "b34773f6",
   "metadata": {},
   "outputs": [],
   "source": []
  },
  {
   "cell_type": "code",
   "execution_count": 33,
   "id": "b49d1ad0",
   "metadata": {},
   "outputs": [
    {
     "data": {
      "text/plain": [
       "<AxesSubplot:xlabel='age', ylabel='Count'>"
      ]
     },
     "execution_count": 33,
     "metadata": {},
     "output_type": "execute_result"
    },
    {
     "data": {
      "image/png": "[encoded data removed]",
      "text/plain": [
       "<Figure size 864x504 with 1 Axes>"
      ]
     },
     "metadata": {
      "needs_background": "light"
     },
     "output_type": "display_data"
    }
   ],
   "source": [
    "#distribution of age\n",
    "plt.figure(figsize=(12,7))\n",
    "sns.histplot(df['age'], kde=True)"
   ]
  },
  {
   "cell_type": "code",
   "execution_count": null,
   "id": "ff798d1c",
   "metadata": {},
   "outputs": [],
   "source": []
  },
  {
   "cell_type": "code",
   "execution_count": 34,
   "id": "0b81b79f",
   "metadata": {},
   "outputs": [
    {
     "data": {
      "text/plain": [
       "<seaborn.axisgrid.PairGrid at 0x29a848398e0>"
      ]
     },
     "execution_count": 34,
     "metadata": {},
     "output_type": "execute_result"
    },
    {
     "data": {
      "image/png": "[encoded data removed]",
      "text/plain": [
       "<Figure size 1080x1080 with 42 Axes>"
      ]
     },
     "metadata": {
      "needs_background": "light"
     },
     "output_type": "display_data"
    }
   ],
   "source": [
    "sns.pairplot(df) #to corelate all numerical column"
   ]
  },
  {
   "cell_type": "code",
   "execution_count": null,
   "id": "3aa806fb",
   "metadata": {},
   "outputs": [],
   "source": []
  },
  {
   "cell_type": "code",
   "execution_count": null,
   "id": "0650a9e7",
   "metadata": {},
   "outputs": [],
   "source": []
  },
  {
   "cell_type": "markdown",
   "id": "9f0b2343",
   "metadata": {},
   "source": [
    "## Q6. Please check if the age dataset is skewed or symmetric. Based on results perform transformation."
   ]
  },
  {
   "cell_type": "markdown",
   "id": "610cf18d",
   "metadata": {},
   "source": [
    "#### In order to see the graph is skewed or symmetic we can use hist plot along with kde to see skewness of the age column"
   ]
  },
  {
   "cell_type": "code",
   "execution_count": 35,
   "id": "9f18643c",
   "metadata": {},
   "outputs": [
    {
     "data": {
      "text/plain": [
       "<AxesSubplot:xlabel='age', ylabel='Count'>"
      ]
     },
     "execution_count": 35,
     "metadata": {},
     "output_type": "execute_result"
    },
    {
     "data": {
      "image/png": "[encoded data removed]",
      "text/plain": [
       "<Figure size 1008x504 with 1 Axes>"
      ]
     },
     "metadata": {
      "needs_background": "light"
     },
     "output_type": "display_data"
    }
   ],
   "source": [
    "plt.figure(figsize=(14,7))\n",
    "sns.histplot(data=df, x='age', kde=True, bins=25)"
   ]
  },
  {
   "cell_type": "markdown",
   "id": "f88f03c8",
   "metadata": {},
   "source": [
    "### Observation:\n",
    "#### we can see the data is skewed towards right so we can check for outliers , too see that visualy we habe box plot and to calculate it we can use 5 point and calculate IQR according to our requirement in order to make distribution more symetric."
   ]
  },
  {
   "cell_type": "code",
   "execution_count": 36,
   "id": "2fcfe19c",
   "metadata": {},
   "outputs": [
    {
     "data": {
      "text/plain": [
       "<AxesSubplot:xlabel='age'>"
      ]
     },
     "execution_count": 36,
     "metadata": {},
     "output_type": "execute_result"
    },
    {
     "data": {
      "image/png": "[encoded data removed]",
      "text/plain": [
       "<Figure size 864x576 with 1 Axes>"
      ]
     },
     "metadata": {
      "needs_background": "light"
     },
     "output_type": "display_data"
    }
   ],
   "source": [
    "plt.figure(figsize=(12,8))\n",
    "sns.boxplot(data=df,x='age') #using box plot to show outliers visually."
   ]
  },
  {
   "cell_type": "code",
   "execution_count": 37,
   "id": "dd2b799c",
   "metadata": {},
   "outputs": [
    {
     "data": {
      "text/plain": [
       "count    8613.000000\n",
       "mean       26.405434\n",
       "std         5.102118\n",
       "min        15.000000\n",
       "25%        23.000000\n",
       "50%        26.000000\n",
       "75%        29.000000\n",
       "max        61.000000\n",
       "Name: age, dtype: float64"
      ]
     },
     "execution_count": 37,
     "metadata": {},
     "output_type": "execute_result"
    }
   ],
   "source": [
    "df['age'].describe() #checking out five point summary(min,max,25%,50%,75%)"
   ]
  },
  {
   "cell_type": "code",
   "execution_count": 38,
   "id": "34b6a913",
   "metadata": {},
   "outputs": [
    {
     "name": "stdout",
     "output_type": "stream",
     "text": [
      "29.0 23.0\n"
     ]
    }
   ],
   "source": [
    "percentile75 = df['age'].quantile(.75) #to calculate 75%\n",
    "percentile25 = df['age'].quantile(.25) #to calculate 25%\n",
    "print(percentile75,percentile25 ) "
   ]
  },
  {
   "cell_type": "code",
   "execution_count": 39,
   "id": "0a62e5d7",
   "metadata": {},
   "outputs": [
    {
     "data": {
      "text/plain": [
       "6.0"
      ]
     },
     "execution_count": 39,
     "metadata": {},
     "output_type": "execute_result"
    }
   ],
   "source": [
    "IQR = percentile75 - percentile25\n",
    "IQR"
   ]
  },
  {
   "cell_type": "code",
   "execution_count": 40,
   "id": "a0e0c9cf",
   "metadata": {},
   "outputs": [
    {
     "data": {
      "text/plain": [
       "38.0"
      ]
     },
     "execution_count": 40,
     "metadata": {},
     "output_type": "execute_result"
    }
   ],
   "source": [
    "upper_whisker = percentile75 + (1.5*IQR) #calculating upper whisker FORMULA FOR UPPER WHISKER = pecentile75 + 1.5 X IQR\n",
    "upper_whisker"
   ]
  },
  {
   "cell_type": "code",
   "execution_count": 41,
   "id": "d36f0e70",
   "metadata": {},
   "outputs": [
    {
     "data": {
      "text/plain": [
       "14.0"
      ]
     },
     "execution_count": 41,
     "metadata": {},
     "output_type": "execute_result"
    }
   ],
   "source": [
    "lower_whisker = percentile25 - (1.5*IQR) # calculating lower whisker FORMULA FOR UPPER WHISKER = pecentile25 - 1.5 X IQR\n",
    "lower_whisker"
   ]
  },
  {
   "cell_type": "code",
   "execution_count": 42,
   "id": "d1287310",
   "metadata": {},
   "outputs": [],
   "source": [
    "# removing outliers above the upper whisker to make a graph symetric"
   ]
  },
  {
   "cell_type": "code",
   "execution_count": 43,
   "id": "02e5f9f7",
   "metadata": {},
   "outputs": [
    {
     "data": {
      "text/html": [
       "<div>\n",
       "<style scoped>\n",
       "    .dataframe tbody tr th:only-of-type {\n",
       "        vertical-align: middle;\n",
       "    }\n",
       "\n",
       "    .dataframe tbody tr th {\n",
       "        vertical-align: top;\n",
       "    }\n",
       "\n",
       "    .dataframe thead th {\n",
       "        text-align: right;\n",
       "    }\n",
       "</style>\n",
       "<table border=\"1\" class=\"dataframe\">\n",
       "  <thead>\n",
       "    <tr style=\"text-align: right;\">\n",
       "      <th></th>\n",
       "      <th>name</th>\n",
       "      <th>age</th>\n",
       "      <th>country</th>\n",
       "      <th>year</th>\n",
       "      <th>Date_Given</th>\n",
       "      <th>sports</th>\n",
       "      <th>gold_medal</th>\n",
       "      <th>silver_medal</th>\n",
       "      <th>brone_medal</th>\n",
       "      <th>total_medal</th>\n",
       "    </tr>\n",
       "  </thead>\n",
       "  <tbody>\n",
       "    <tr>\n",
       "      <th>64</th>\n",
       "      <td>Dara Torres</td>\n",
       "      <td>41.0</td>\n",
       "      <td>United States</td>\n",
       "      <td>2008</td>\n",
       "      <td>2008-08-24</td>\n",
       "      <td>Swimming</td>\n",
       "      <td>0</td>\n",
       "      <td>3</td>\n",
       "      <td>0</td>\n",
       "      <td>3</td>\n",
       "    </tr>\n",
       "    <tr>\n",
       "      <th>438</th>\n",
       "      <td>Heike Kemmer</td>\n",
       "      <td>46.0</td>\n",
       "      <td>Germany</td>\n",
       "      <td>2008</td>\n",
       "      <td>2008-08-24</td>\n",
       "      <td>Equestrian</td>\n",
       "      <td>1</td>\n",
       "      <td>0</td>\n",
       "      <td>1</td>\n",
       "      <td>2</td>\n",
       "    </tr>\n",
       "    <tr>\n",
       "      <th>439</th>\n",
       "      <td>Eric Lamaze</td>\n",
       "      <td>40.0</td>\n",
       "      <td>Canada</td>\n",
       "      <td>2008</td>\n",
       "      <td>2008-08-24</td>\n",
       "      <td>Equestrian</td>\n",
       "      <td>1</td>\n",
       "      <td>1</td>\n",
       "      <td>0</td>\n",
       "      <td>2</td>\n",
       "    </tr>\n",
       "    <tr>\n",
       "      <th>440</th>\n",
       "      <td>Beezie Madden</td>\n",
       "      <td>44.0</td>\n",
       "      <td>United States</td>\n",
       "      <td>2008</td>\n",
       "      <td>2008-08-24</td>\n",
       "      <td>Equestrian</td>\n",
       "      <td>1</td>\n",
       "      <td>0</td>\n",
       "      <td>1</td>\n",
       "      <td>2</td>\n",
       "    </tr>\n",
       "    <tr>\n",
       "      <th>441</th>\n",
       "      <td>Hinrich Romeike</td>\n",
       "      <td>45.0</td>\n",
       "      <td>Germany</td>\n",
       "      <td>2008</td>\n",
       "      <td>2008-08-24</td>\n",
       "      <td>Equestrian</td>\n",
       "      <td>2</td>\n",
       "      <td>0</td>\n",
       "      <td>0</td>\n",
       "      <td>2</td>\n",
       "    </tr>\n",
       "    <tr>\n",
       "      <th>...</th>\n",
       "      <td>...</td>\n",
       "      <td>...</td>\n",
       "      <td>...</td>\n",
       "      <td>...</td>\n",
       "      <td>...</td>\n",
       "      <td>...</td>\n",
       "      <td>...</td>\n",
       "      <td>...</td>\n",
       "      <td>...</td>\n",
       "      <td>...</td>\n",
       "    </tr>\n",
       "    <tr>\n",
       "      <th>8569</th>\n",
       "      <td>Ilario Di Bu</td>\n",
       "      <td>51.0</td>\n",
       "      <td>Italy</td>\n",
       "      <td>2008</td>\n",
       "      <td>2008-08-24</td>\n",
       "      <td>Archery</td>\n",
       "      <td>0</td>\n",
       "      <td>1</td>\n",
       "      <td>0</td>\n",
       "      <td>1</td>\n",
       "    </tr>\n",
       "    <tr>\n",
       "      <th>8598</th>\n",
       "      <td>Hiroshi Yamamoto</td>\n",
       "      <td>41.0</td>\n",
       "      <td>Japan</td>\n",
       "      <td>2004</td>\n",
       "      <td>2004-08-29</td>\n",
       "      <td>Archery</td>\n",
       "      <td>0</td>\n",
       "      <td>1</td>\n",
       "      <td>0</td>\n",
       "      <td>1</td>\n",
       "    </tr>\n",
       "    <tr>\n",
       "      <th>8604</th>\n",
       "      <td>Ilario Di Bu</td>\n",
       "      <td>43.0</td>\n",
       "      <td>Italy</td>\n",
       "      <td>2000</td>\n",
       "      <td>2000-10-01</td>\n",
       "      <td>Archery</td>\n",
       "      <td>0</td>\n",
       "      <td>1</td>\n",
       "      <td>0</td>\n",
       "      <td>1</td>\n",
       "    </tr>\n",
       "    <tr>\n",
       "      <th>8608</th>\n",
       "      <td>Butch Johnson</td>\n",
       "      <td>45.0</td>\n",
       "      <td>United States</td>\n",
       "      <td>2000</td>\n",
       "      <td>2000-10-01</td>\n",
       "      <td>Archery</td>\n",
       "      <td>0</td>\n",
       "      <td>0</td>\n",
       "      <td>1</td>\n",
       "      <td>1</td>\n",
       "    </tr>\n",
       "    <tr>\n",
       "      <th>8610</th>\n",
       "      <td>Barbara Mensing</td>\n",
       "      <td>39.0</td>\n",
       "      <td>Germany</td>\n",
       "      <td>2000</td>\n",
       "      <td>2000-10-01</td>\n",
       "      <td>Archery</td>\n",
       "      <td>0</td>\n",
       "      <td>0</td>\n",
       "      <td>1</td>\n",
       "      <td>1</td>\n",
       "    </tr>\n",
       "  </tbody>\n",
       "</table>\n",
       "<p>192 rows × 10 columns</p>\n",
       "</div>"
      ],
      "text/plain": [
       "                  name   age        country  year Date_Given      sports  \\\n",
       "64         Dara Torres  41.0  United States  2008 2008-08-24    Swimming   \n",
       "438       Heike Kemmer  46.0        Germany  2008 2008-08-24  Equestrian   \n",
       "439        Eric Lamaze  40.0         Canada  2008 2008-08-24  Equestrian   \n",
       "440      Beezie Madden  44.0  United States  2008 2008-08-24  Equestrian   \n",
       "441    Hinrich Romeike  45.0        Germany  2008 2008-08-24  Equestrian   \n",
       "...                ...   ...            ...   ...        ...         ...   \n",
       "8569      Ilario Di Bu  51.0          Italy  2008 2008-08-24     Archery   \n",
       "8598  Hiroshi Yamamoto  41.0          Japan  2004 2004-08-29     Archery   \n",
       "8604      Ilario Di Bu  43.0          Italy  2000 2000-10-01     Archery   \n",
       "8608     Butch Johnson  45.0  United States  2000 2000-10-01     Archery   \n",
       "8610   Barbara Mensing  39.0        Germany  2000 2000-10-01     Archery   \n",
       "\n",
       "      gold_medal  silver_medal  brone_medal  total_medal  \n",
       "64             0             3            0            3  \n",
       "438            1             0            1            2  \n",
       "439            1             1            0            2  \n",
       "440            1             0            1            2  \n",
       "441            2             0            0            2  \n",
       "...          ...           ...          ...          ...  \n",
       "8569           0             1            0            1  \n",
       "8598           0             1            0            1  \n",
       "8604           0             1            0            1  \n",
       "8608           0             0            1            1  \n",
       "8610           0             0            1            1  \n",
       "\n",
       "[192 rows x 10 columns]"
      ]
     },
     "execution_count": 43,
     "metadata": {},
     "output_type": "execute_result"
    }
   ],
   "source": [
    "out_lier_data = df[df['age'] > upper_whisker] #showing out outliers\n",
    "out_lier_data"
   ]
  },
  {
   "cell_type": "code",
   "execution_count": 44,
   "id": "ccee1271",
   "metadata": {},
   "outputs": [],
   "source": [
    "transformed_df = df[df['age'] < upper_whisker] # FILTERING out outliers"
   ]
  },
  {
   "cell_type": "code",
   "execution_count": 45,
   "id": "40ff724c",
   "metadata": {},
   "outputs": [
    {
     "data": {
      "text/plain": [
       "<matplotlib.legend.Legend at 0x29a87f3e070>"
      ]
     },
     "execution_count": 45,
     "metadata": {},
     "output_type": "execute_result"
    },
    {
     "data": {
      "image/png": "[encoded data removed]",
      "text/plain": [
       "<Figure size 1008x504 with 1 Axes>"
      ]
     },
     "metadata": {
      "needs_background": "light"
     },
     "output_type": "display_data"
    }
   ],
   "source": [
    "plt.figure(figsize=(14,7)) #to enlarge the graph\n",
    "plt.axvline(transformed_df['age'].mean(), color = 'red', label='mean') #to mark mean line\n",
    "plt.axvline(transformed_df['age'].median(), color = 'green',label='median') #to mark median line\n",
    "sns.histplot(data=transformed_df, x='age', kde=True, bins=25) #to plot \n",
    "plt.legend() #to show legend"
   ]
  },
  {
   "cell_type": "code",
   "execution_count": 46,
   "id": "a0c6673b",
   "metadata": {},
   "outputs": [],
   "source": [
    "## now data is normally distributed AS MEAN AND MEDIAN ALMOST OVERLAPS"
   ]
  },
  {
   "cell_type": "code",
   "execution_count": null,
   "id": "7a82df6e",
   "metadata": {},
   "outputs": [],
   "source": []
  },
  {
   "cell_type": "code",
   "execution_count": null,
   "id": "19e5f422",
   "metadata": {},
   "outputs": [],
   "source": []
  },
  {
   "cell_type": "markdown",
   "id": "4c214bc1",
   "metadata": {},
   "source": [
    "## Q7. Please perform appropriate numerical measures on each column and report them accordingly."
   ]
  },
  {
   "cell_type": "code",
   "execution_count": 47,
   "id": "54442edb",
   "metadata": {},
   "outputs": [
    {
     "name": "stdout",
     "output_type": "stream",
     "text": [
      "<class 'pandas.core.frame.DataFrame'>\n",
      "Int64Index: 8613 entries, 0 to 8617\n",
      "Data columns (total 10 columns):\n",
      " #   Column        Non-Null Count  Dtype         \n",
      "---  ------        --------------  -----         \n",
      " 0   name          8613 non-null   object        \n",
      " 1   age           8613 non-null   float64       \n",
      " 2   country       8613 non-null   object        \n",
      " 3   year          8613 non-null   int64         \n",
      " 4   Date_Given    8613 non-null   datetime64[ns]\n",
      " 5   sports        8613 non-null   object        \n",
      " 6   gold_medal    8613 non-null   int64         \n",
      " 7   silver_medal  8613 non-null   int64         \n",
      " 8   brone_medal   8613 non-null   int64         \n",
      " 9   total_medal   8613 non-null   int64         \n",
      "dtypes: datetime64[ns](1), float64(1), int64(5), object(3)\n",
      "memory usage: 998.2+ KB\n"
     ]
    }
   ],
   "source": [
    "df.info()"
   ]
  },
  {
   "cell_type": "code",
   "execution_count": 48,
   "id": "70df37af",
   "metadata": {},
   "outputs": [
    {
     "data": {
      "text/plain": [
       "Index(['name', 'age', 'country', 'year', 'Date_Given', 'sports', 'gold_medal',\n",
       "       'silver_medal', 'brone_medal', 'total_medal'],\n",
       "      dtype='object')"
      ]
     },
     "execution_count": 48,
     "metadata": {},
     "output_type": "execute_result"
    }
   ],
   "source": [
    "df.columns"
   ]
  },
  {
   "cell_type": "code",
   "execution_count": 49,
   "id": "3d6141a7",
   "metadata": {},
   "outputs": [
    {
     "data": {
      "text/plain": [
       "0          Anky van Grunsven\n",
       "1             Artur Taymazov\n",
       "2                Ben Ainslie\n",
       "3            Bradley Wiggins\n",
       "4               Brenda Villa\n",
       "5                  Chris Hoy\n",
       "6     Christie PearceRampone\n",
       "7             Emilie Heymans\n",
       "8             Eskild Ebbesen\n",
       "9              Heather Petri\n",
       "10               Jason Lezak\n",
       "11             Katalin Kovcs\n",
       "12        Katherine Grainger\n",
       "13     Katrin WagnerAugustin\n",
       "14                 Kim Rhode\n",
       "15           Kristi Harrower\n",
       "16            Lauren Jackson\n",
       "17              Leisel Jones\n",
       "18               Lucha Aymar\n",
       "19                Matt Wells\n",
       "20            Michal Martikn\n",
       "21        Pavol Hochschorner\n",
       "22        Peter Hochschorner\n",
       "23            Robert Scheidt\n",
       "24          Sergey Tetyukhin\n",
       "25         Valentina Vezzali\n",
       "26    Veronica CampbellBrown\n",
       "27                  Wang Hao\n",
       "28                  Yang Wei\n",
       "dtype: object"
      ]
     },
     "execution_count": 49,
     "metadata": {},
     "output_type": "execute_result"
    }
   ],
   "source": [
    "df['name'].mode() # as it is a categorical column mode is suitable measure for this data type"
   ]
  },
  {
   "cell_type": "code",
   "execution_count": null,
   "id": "133d8719",
   "metadata": {},
   "outputs": [],
   "source": []
  },
  {
   "cell_type": "code",
   "execution_count": 50,
   "id": "6a1b22c8",
   "metadata": {},
   "outputs": [
    {
     "data": {
      "text/plain": [
       "<AxesSubplot:xlabel='age', ylabel='Count'>"
      ]
     },
     "execution_count": 50,
     "metadata": {},
     "output_type": "execute_result"
    },
    {
     "data": {
      "image/png": "[encoded data removed]",
      "text/plain": [
       "<Figure size 1008x504 with 1 Axes>"
      ]
     },
     "metadata": {
      "needs_background": "light"
     },
     "output_type": "display_data"
    }
   ],
   "source": [
    "plt.figure(figsize=(14,7))\n",
    "sns.histplot(data=df, x='age', kde=True, bins=40)"
   ]
  },
  {
   "cell_type": "code",
   "execution_count": 51,
   "id": "054abd21",
   "metadata": {},
   "outputs": [
    {
     "data": {
      "text/plain": [
       "26.0"
      ]
     },
     "execution_count": 51,
     "metadata": {},
     "output_type": "execute_result"
    }
   ],
   "source": [
    "df['age'].median() # as above seen data is skewed so median is a good measure for this column \n",
    "                   #  as median is not much affected with outlier data"
   ]
  },
  {
   "cell_type": "code",
   "execution_count": null,
   "id": "c7fa65d6",
   "metadata": {},
   "outputs": [],
   "source": []
  },
  {
   "cell_type": "code",
   "execution_count": 52,
   "id": "ac153dcc",
   "metadata": {},
   "outputs": [
    {
     "data": {
      "text/plain": [
       "0    United States\n",
       "dtype: object"
      ]
     },
     "execution_count": 52,
     "metadata": {},
     "output_type": "execute_result"
    }
   ],
   "source": [
    "df['country'].mode() # as it is a categorical column mode is suitable measure for this data type"
   ]
  },
  {
   "cell_type": "code",
   "execution_count": null,
   "id": "1e92d10b",
   "metadata": {},
   "outputs": [],
   "source": []
  },
  {
   "cell_type": "code",
   "execution_count": 53,
   "id": "2c9f63ee",
   "metadata": {},
   "outputs": [
    {
     "data": {
      "text/plain": [
       "0    2008\n",
       "dtype: int64"
      ]
     },
     "execution_count": 53,
     "metadata": {},
     "output_type": "execute_result"
    }
   ],
   "source": [
    "df['year'].mode() # though it appers to be numerical column but it is a categorical feature so mode is suitable for this data type."
   ]
  },
  {
   "cell_type": "code",
   "execution_count": null,
   "id": "c6508872",
   "metadata": {},
   "outputs": [],
   "source": []
  },
  {
   "cell_type": "code",
   "execution_count": 54,
   "id": "4b9b6cd1",
   "metadata": {},
   "outputs": [
    {
     "data": {
      "text/plain": [
       "0    Athletics\n",
       "dtype: object"
      ]
     },
     "execution_count": 54,
     "metadata": {},
     "output_type": "execute_result"
    }
   ],
   "source": [
    "df['sports'].mode() # as it is a categorical column mode is suitable measure for this data type"
   ]
  },
  {
   "cell_type": "code",
   "execution_count": null,
   "id": "a4ada3ba",
   "metadata": {},
   "outputs": [],
   "source": []
  },
  {
   "cell_type": "code",
   "execution_count": 55,
   "id": "7d55f828",
   "metadata": {},
   "outputs": [
    {
     "data": {
      "text/plain": [
       "0"
      ]
     },
     "execution_count": 55,
     "metadata": {},
     "output_type": "execute_result"
    }
   ],
   "source": [
    "df['gold_medal'].min() #as a medal data is descrete and min and max is suitable measure for this data type"
   ]
  },
  {
   "cell_type": "code",
   "execution_count": 56,
   "id": "14b03463",
   "metadata": {},
   "outputs": [
    {
     "data": {
      "text/plain": [
       "8"
      ]
     },
     "execution_count": 56,
     "metadata": {},
     "output_type": "execute_result"
    }
   ],
   "source": [
    "df['gold_medal'].max() #as a medal data is descrete and min and max is suitable measure for this data type"
   ]
  },
  {
   "cell_type": "code",
   "execution_count": null,
   "id": "efd95aac",
   "metadata": {},
   "outputs": [],
   "source": []
  },
  {
   "cell_type": "code",
   "execution_count": 57,
   "id": "18d07c15",
   "metadata": {},
   "outputs": [
    {
     "data": {
      "text/plain": [
       "0"
      ]
     },
     "execution_count": 57,
     "metadata": {},
     "output_type": "execute_result"
    }
   ],
   "source": [
    "df['silver_medal'].min() #as a medal data is descrete and min and max is suitable measure for this data type"
   ]
  },
  {
   "cell_type": "code",
   "execution_count": 58,
   "id": "b1563560",
   "metadata": {},
   "outputs": [
    {
     "data": {
      "text/plain": [
       "3"
      ]
     },
     "execution_count": 58,
     "metadata": {},
     "output_type": "execute_result"
    }
   ],
   "source": [
    "df['silver_medal'].max() #as a medal data is descrete and min and max is suitable measure for this data type"
   ]
  },
  {
   "cell_type": "code",
   "execution_count": null,
   "id": "1f7191ab",
   "metadata": {},
   "outputs": [],
   "source": []
  },
  {
   "cell_type": "code",
   "execution_count": 59,
   "id": "b0f16fae",
   "metadata": {},
   "outputs": [
    {
     "data": {
      "text/plain": [
       "0"
      ]
     },
     "execution_count": 59,
     "metadata": {},
     "output_type": "execute_result"
    }
   ],
   "source": [
    "df['brone_medal'].min() #as a medal data is descrete and min and max is suitable measure for this data type"
   ]
  },
  {
   "cell_type": "code",
   "execution_count": 60,
   "id": "de63a03c",
   "metadata": {},
   "outputs": [
    {
     "data": {
      "text/plain": [
       "3"
      ]
     },
     "execution_count": 60,
     "metadata": {},
     "output_type": "execute_result"
    }
   ],
   "source": [
    "df['brone_medal'].max() #as a medal data is descrete and min and max is suitable measure for this data type"
   ]
  },
  {
   "cell_type": "code",
   "execution_count": null,
   "id": "99a51c19",
   "metadata": {},
   "outputs": [],
   "source": []
  },
  {
   "cell_type": "code",
   "execution_count": 61,
   "id": "708c6a50",
   "metadata": {},
   "outputs": [
    {
     "data": {
      "text/plain": [
       "1"
      ]
     },
     "execution_count": 61,
     "metadata": {},
     "output_type": "execute_result"
    }
   ],
   "source": [
    "df['total_medal'].min() #as a medal data is descrete and min and max is suitable measure for this data type"
   ]
  },
  {
   "cell_type": "code",
   "execution_count": 62,
   "id": "1763871a",
   "metadata": {},
   "outputs": [
    {
     "data": {
      "text/plain": [
       "8"
      ]
     },
     "execution_count": 62,
     "metadata": {},
     "output_type": "execute_result"
    }
   ],
   "source": [
    "df['total_medal'].max() #as a medal data is descrete and min and max is suitable measure for this data type"
   ]
  },
  {
   "cell_type": "code",
   "execution_count": null,
   "id": "27ce9479",
   "metadata": {},
   "outputs": [],
   "source": []
  },
  {
   "cell_type": "code",
   "execution_count": null,
   "id": "bb066a57",
   "metadata": {},
   "outputs": [],
   "source": []
  },
  {
   "cell_type": "markdown",
   "id": "881b8140",
   "metadata": {},
   "source": [
    "## Q8. Please list the top 10 countries with the gold medal, then top10 countries with the silver medal, then bronze medal and the total medal."
   ]
  },
  {
   "cell_type": "code",
   "execution_count": 63,
   "id": "45d51072",
   "metadata": {},
   "outputs": [
    {
     "data": {
      "text/html": [
       "<div>\n",
       "<style scoped>\n",
       "    .dataframe tbody tr th:only-of-type {\n",
       "        vertical-align: middle;\n",
       "    }\n",
       "\n",
       "    .dataframe tbody tr th {\n",
       "        vertical-align: top;\n",
       "    }\n",
       "\n",
       "    .dataframe thead th {\n",
       "        text-align: right;\n",
       "    }\n",
       "</style>\n",
       "<table border=\"1\" class=\"dataframe\">\n",
       "  <thead>\n",
       "    <tr style=\"text-align: right;\">\n",
       "      <th></th>\n",
       "      <th>gold_medal</th>\n",
       "    </tr>\n",
       "    <tr>\n",
       "      <th>country</th>\n",
       "      <th></th>\n",
       "    </tr>\n",
       "  </thead>\n",
       "  <tbody>\n",
       "    <tr>\n",
       "      <th>United States</th>\n",
       "      <td>552</td>\n",
       "    </tr>\n",
       "    <tr>\n",
       "      <th>Russia</th>\n",
       "      <td>234</td>\n",
       "    </tr>\n",
       "    <tr>\n",
       "      <th>China</th>\n",
       "      <td>234</td>\n",
       "    </tr>\n",
       "    <tr>\n",
       "      <th>Germany</th>\n",
       "      <td>223</td>\n",
       "    </tr>\n",
       "    <tr>\n",
       "      <th>Canada</th>\n",
       "      <td>168</td>\n",
       "    </tr>\n",
       "    <tr>\n",
       "      <th>...</th>\n",
       "      <td>...</td>\n",
       "    </tr>\n",
       "    <tr>\n",
       "      <th>Montenegro</th>\n",
       "      <td>0</td>\n",
       "    </tr>\n",
       "    <tr>\n",
       "      <th>Paraguay</th>\n",
       "      <td>0</td>\n",
       "    </tr>\n",
       "    <tr>\n",
       "      <th>Puerto Rico</th>\n",
       "      <td>0</td>\n",
       "    </tr>\n",
       "    <tr>\n",
       "      <th>Qatar</th>\n",
       "      <td>0</td>\n",
       "    </tr>\n",
       "    <tr>\n",
       "      <th>Kuwait</th>\n",
       "      <td>0</td>\n",
       "    </tr>\n",
       "  </tbody>\n",
       "</table>\n",
       "<p>110 rows × 1 columns</p>\n",
       "</div>"
      ],
      "text/plain": [
       "               gold_medal\n",
       "country                  \n",
       "United States         552\n",
       "Russia                234\n",
       "China                 234\n",
       "Germany               223\n",
       "Canada                168\n",
       "...                   ...\n",
       "Montenegro              0\n",
       "Paraguay                0\n",
       "Puerto Rico             0\n",
       "Qatar                   0\n",
       "Kuwait                  0\n",
       "\n",
       "[110 rows x 1 columns]"
      ]
     },
     "execution_count": 63,
     "metadata": {},
     "output_type": "execute_result"
    }
   ],
   "source": [
    "gold_medal = pd.DataFrame(df.groupby(['country'])['gold_medal'].sum()) #grouping the data country wise and adding there gold medals\n",
    "gold_medal.sort_values('gold_medal', ascending=False) #sorting the result in decending order"
   ]
  },
  {
   "cell_type": "code",
   "execution_count": null,
   "id": "4274cc45",
   "metadata": {},
   "outputs": [],
   "source": []
  },
  {
   "cell_type": "code",
   "execution_count": 64,
   "id": "1ba526fa",
   "metadata": {},
   "outputs": [
    {
     "data": {
      "text/html": [
       "<div>\n",
       "<style scoped>\n",
       "    .dataframe tbody tr th:only-of-type {\n",
       "        vertical-align: middle;\n",
       "    }\n",
       "\n",
       "    .dataframe tbody tr th {\n",
       "        vertical-align: top;\n",
       "    }\n",
       "\n",
       "    .dataframe thead th {\n",
       "        text-align: right;\n",
       "    }\n",
       "</style>\n",
       "<table border=\"1\" class=\"dataframe\">\n",
       "  <thead>\n",
       "    <tr style=\"text-align: right;\">\n",
       "      <th></th>\n",
       "      <th>silver_medal</th>\n",
       "    </tr>\n",
       "    <tr>\n",
       "      <th>country</th>\n",
       "      <th></th>\n",
       "    </tr>\n",
       "  </thead>\n",
       "  <tbody>\n",
       "    <tr>\n",
       "      <th>United States</th>\n",
       "      <td>440</td>\n",
       "    </tr>\n",
       "    <tr>\n",
       "      <th>Australia</th>\n",
       "      <td>226</td>\n",
       "    </tr>\n",
       "    <tr>\n",
       "      <th>Russia</th>\n",
       "      <td>221</td>\n",
       "    </tr>\n",
       "    <tr>\n",
       "      <th>Germany</th>\n",
       "      <td>183</td>\n",
       "    </tr>\n",
       "    <tr>\n",
       "      <th>China</th>\n",
       "      <td>156</td>\n",
       "    </tr>\n",
       "    <tr>\n",
       "      <th>...</th>\n",
       "      <td>...</td>\n",
       "    </tr>\n",
       "    <tr>\n",
       "      <th>Costa Rica</th>\n",
       "      <td>0</td>\n",
       "    </tr>\n",
       "    <tr>\n",
       "      <th>Cameroon</th>\n",
       "      <td>0</td>\n",
       "    </tr>\n",
       "    <tr>\n",
       "      <th>Barbados</th>\n",
       "      <td>0</td>\n",
       "    </tr>\n",
       "    <tr>\n",
       "      <th>Bahrain</th>\n",
       "      <td>0</td>\n",
       "    </tr>\n",
       "    <tr>\n",
       "      <th>Kuwait</th>\n",
       "      <td>0</td>\n",
       "    </tr>\n",
       "  </tbody>\n",
       "</table>\n",
       "<p>110 rows × 1 columns</p>\n",
       "</div>"
      ],
      "text/plain": [
       "               silver_medal\n",
       "country                    \n",
       "United States           440\n",
       "Australia               226\n",
       "Russia                  221\n",
       "Germany                 183\n",
       "China                   156\n",
       "...                     ...\n",
       "Costa Rica                0\n",
       "Cameroon                  0\n",
       "Barbados                  0\n",
       "Bahrain                   0\n",
       "Kuwait                    0\n",
       "\n",
       "[110 rows x 1 columns]"
      ]
     },
     "execution_count": 64,
     "metadata": {},
     "output_type": "execute_result"
    }
   ],
   "source": [
    "silver_medal = pd.DataFrame(df.groupby(['country'])['silver_medal'].sum()) #grouping the data country wise and adding there gold medals\n",
    "silver_medal.sort_values('silver_medal', ascending=False) #sorting the result in decending order"
   ]
  },
  {
   "cell_type": "code",
   "execution_count": null,
   "id": "8cbc0414",
   "metadata": {},
   "outputs": [],
   "source": []
  },
  {
   "cell_type": "code",
   "execution_count": 65,
   "id": "159b088a",
   "metadata": {},
   "outputs": [
    {
     "data": {
      "text/html": [
       "<div>\n",
       "<style scoped>\n",
       "    .dataframe tbody tr th:only-of-type {\n",
       "        vertical-align: middle;\n",
       "    }\n",
       "\n",
       "    .dataframe tbody tr th {\n",
       "        vertical-align: top;\n",
       "    }\n",
       "\n",
       "    .dataframe thead th {\n",
       "        text-align: right;\n",
       "    }\n",
       "</style>\n",
       "<table border=\"1\" class=\"dataframe\">\n",
       "  <thead>\n",
       "    <tr style=\"text-align: right;\">\n",
       "      <th></th>\n",
       "      <th>brone_medal</th>\n",
       "    </tr>\n",
       "    <tr>\n",
       "      <th>country</th>\n",
       "      <th></th>\n",
       "    </tr>\n",
       "  </thead>\n",
       "  <tbody>\n",
       "    <tr>\n",
       "      <th>United States</th>\n",
       "      <td>320</td>\n",
       "    </tr>\n",
       "    <tr>\n",
       "      <th>Russia</th>\n",
       "      <td>313</td>\n",
       "    </tr>\n",
       "    <tr>\n",
       "      <th>Germany</th>\n",
       "      <td>223</td>\n",
       "    </tr>\n",
       "    <tr>\n",
       "      <th>Australia</th>\n",
       "      <td>220</td>\n",
       "    </tr>\n",
       "    <tr>\n",
       "      <th>Italy</th>\n",
       "      <td>142</td>\n",
       "    </tr>\n",
       "    <tr>\n",
       "      <th>...</th>\n",
       "      <td>...</td>\n",
       "    </tr>\n",
       "    <tr>\n",
       "      <th>Sri Lanka</th>\n",
       "      <td>0</td>\n",
       "    </tr>\n",
       "    <tr>\n",
       "      <th>Dominican Republic</th>\n",
       "      <td>0</td>\n",
       "    </tr>\n",
       "    <tr>\n",
       "      <th>Ecuador</th>\n",
       "      <td>0</td>\n",
       "    </tr>\n",
       "    <tr>\n",
       "      <th>Sudan</th>\n",
       "      <td>0</td>\n",
       "    </tr>\n",
       "    <tr>\n",
       "      <th>Cyprus</th>\n",
       "      <td>0</td>\n",
       "    </tr>\n",
       "  </tbody>\n",
       "</table>\n",
       "<p>110 rows × 1 columns</p>\n",
       "</div>"
      ],
      "text/plain": [
       "                    brone_medal\n",
       "country                        \n",
       "United States               320\n",
       "Russia                      313\n",
       "Germany                     223\n",
       "Australia                   220\n",
       "Italy                       142\n",
       "...                         ...\n",
       "Sri Lanka                     0\n",
       "Dominican Republic            0\n",
       "Ecuador                       0\n",
       "Sudan                         0\n",
       "Cyprus                        0\n",
       "\n",
       "[110 rows x 1 columns]"
      ]
     },
     "execution_count": 65,
     "metadata": {},
     "output_type": "execute_result"
    }
   ],
   "source": [
    "bronze_medal = pd.DataFrame(df.groupby(['country'])['brone_medal'].sum()) #grouping the data country wise and adding there bronze medals\n",
    "bronze_medal.sort_values('brone_medal', ascending=False) #sorting the result in decending order"
   ]
  },
  {
   "cell_type": "code",
   "execution_count": null,
   "id": "1e5d2c06",
   "metadata": {},
   "outputs": [],
   "source": []
  },
  {
   "cell_type": "code",
   "execution_count": 66,
   "id": "43d38338",
   "metadata": {},
   "outputs": [
    {
     "data": {
      "text/html": [
       "<div>\n",
       "<style scoped>\n",
       "    .dataframe tbody tr th:only-of-type {\n",
       "        vertical-align: middle;\n",
       "    }\n",
       "\n",
       "    .dataframe tbody tr th {\n",
       "        vertical-align: top;\n",
       "    }\n",
       "\n",
       "    .dataframe thead th {\n",
       "        text-align: right;\n",
       "    }\n",
       "</style>\n",
       "<table border=\"1\" class=\"dataframe\">\n",
       "  <thead>\n",
       "    <tr style=\"text-align: right;\">\n",
       "      <th></th>\n",
       "      <th>total_medal</th>\n",
       "    </tr>\n",
       "    <tr>\n",
       "      <th>country</th>\n",
       "      <th></th>\n",
       "    </tr>\n",
       "  </thead>\n",
       "  <tbody>\n",
       "    <tr>\n",
       "      <th>United States</th>\n",
       "      <td>1312</td>\n",
       "    </tr>\n",
       "    <tr>\n",
       "      <th>Russia</th>\n",
       "      <td>768</td>\n",
       "    </tr>\n",
       "    <tr>\n",
       "      <th>Germany</th>\n",
       "      <td>629</td>\n",
       "    </tr>\n",
       "    <tr>\n",
       "      <th>Australia</th>\n",
       "      <td>609</td>\n",
       "    </tr>\n",
       "    <tr>\n",
       "      <th>China</th>\n",
       "      <td>530</td>\n",
       "    </tr>\n",
       "    <tr>\n",
       "      <th>...</th>\n",
       "      <td>...</td>\n",
       "    </tr>\n",
       "    <tr>\n",
       "      <th>Guatemala</th>\n",
       "      <td>1</td>\n",
       "    </tr>\n",
       "    <tr>\n",
       "      <th>Syria</th>\n",
       "      <td>1</td>\n",
       "    </tr>\n",
       "    <tr>\n",
       "      <th>Macedonia</th>\n",
       "      <td>1</td>\n",
       "    </tr>\n",
       "    <tr>\n",
       "      <th>Mauritius</th>\n",
       "      <td>1</td>\n",
       "    </tr>\n",
       "    <tr>\n",
       "      <th>Gabon</th>\n",
       "      <td>1</td>\n",
       "    </tr>\n",
       "  </tbody>\n",
       "</table>\n",
       "<p>110 rows × 1 columns</p>\n",
       "</div>"
      ],
      "text/plain": [
       "               total_medal\n",
       "country                   \n",
       "United States         1312\n",
       "Russia                 768\n",
       "Germany                629\n",
       "Australia              609\n",
       "China                  530\n",
       "...                    ...\n",
       "Guatemala                1\n",
       "Syria                    1\n",
       "Macedonia                1\n",
       "Mauritius                1\n",
       "Gabon                    1\n",
       "\n",
       "[110 rows x 1 columns]"
      ]
     },
     "execution_count": 66,
     "metadata": {},
     "output_type": "execute_result"
    }
   ],
   "source": [
    "total_medal = pd.DataFrame(df.groupby(['country'])['total_medal'].sum())\n",
    "total_medal.sort_values('total_medal', ascending=False)"
   ]
  },
  {
   "cell_type": "code",
   "execution_count": null,
   "id": "a83ee819",
   "metadata": {},
   "outputs": [],
   "source": []
  },
  {
   "cell_type": "code",
   "execution_count": null,
   "id": "036204b1",
   "metadata": {},
   "outputs": [],
   "source": []
  }
 ],
 "metadata": {
  "kernelspec": {
   "display_name": "Python 3 (ipykernel)",
   "language": "python",
   "name": "python3"
  },
  "language_info": {
   "codemirror_mode": {
    "name": "ipython",
    "version": 3
   },
   "file_extension": ".py",
   "mimetype": "text/x-python",
   "name": "python",
   "nbconvert_exporter": "python",
   "pygments_lexer": "ipython3",
   "version": "3.9.7"
  }
 },
 "nbformat": 4,
 "nbformat_minor": 5
}
